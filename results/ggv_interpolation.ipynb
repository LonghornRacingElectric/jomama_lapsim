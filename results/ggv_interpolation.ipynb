{
 "cells": [
  {
   "cell_type": "code",
   "execution_count": 1,
   "metadata": {},
   "outputs": [],
   "source": [
    "import sys\n",
    "sys.path.append(\"..\")\n",
    "import engine\n",
    "from engine import racecar\n",
    "import engine.magic_moment_method.vehicle_params as vehicles\n",
    "import numpy as np\n",
    "import matplotlib.pyplot as plt\n",
    "from mpl_toolkits.mplot3d import Axes3D\n",
    "import pandas as pd\n",
    "\n",
    "easy_driver = engine.Racecar(vehicles.Concept2023(motor_directory=\"../engine/magic_moment_method/vehicle_params/Eff228.csv\"))\n",
    "easy_driver.ggv = pd.read_csv(\"GGV.csv\")\n",
    "# easy_driver.regenerate_GGV(sweep_range, mesh_size)\n",
    "# easy_driver.save_ggv(\"engine/magic_moment_method/analysis/GGV.csv\")"
   ]
  },
  {
   "cell_type": "code",
   "execution_count": 2,
   "metadata": {},
   "outputs": [],
   "source": [
    "data = []\n",
    "velocity_sweep = np.linspace(0, easy_driver.params.max_vel, 50)\n",
    "for velocity in velocity_sweep:\n",
    "    max_lateral = easy_driver.lateral(velocity)\n",
    "    for lateral in np.linspace(-max_lateral, max_lateral, 100):\n",
    "        long_forward, _, _, _ = easy_driver.accel(velocity,lateral)\n",
    "        long_reverse, _, _, _= easy_driver.deccel(velocity,lateral)\n",
    "        data.append([velocity, long_forward, lateral])\n",
    "        data.append([velocity, long_reverse * -1, lateral])\n",
    "df = pd.DataFrame(data, columns=[\"vel\", \"long\", \"lat\"])"
   ]
  },
  {
   "cell_type": "code",
   "execution_count": null,
   "metadata": {},
   "outputs": [],
   "source": [
    "fig = plt.figure(figsize=(14, 14), dpi=80)\n",
    "ax = fig.add_subplot(111, projection='3d')\n",
    "col = plt.get_cmap('viridis')\n",
    "for vel in df[\"vel\"].unique():\n",
    "    temp_df = df[df[\"vel\"] == vel]\n",
    "    color = col((vel-5)/(easy_driver.params.max_vel-5))\n",
    "    ax.scatter(temp_df[\"long\"], temp_df[\"lat\"], temp_df[\"vel\"], c=color)  \n",
    "ax.set_ylabel(\"Lateral Acceleration (m/s^2)\")\n",
    "ax.set_xlabel(\"Long Acceleration (m/s^2)\")\n",
    "ax.set_zlabel(\"Speed (m/s)\")\n",
    "ax.set_title(\"G-G-V Diagram\")"
   ]
  },
  {
   "cell_type": "code",
   "execution_count": null,
   "metadata": {},
   "outputs": [],
   "source": [
    "fig = plt.figure(figsize=(14, 14), dpi=80)\n",
    "ax = fig.add_subplot(111, projection='3d')\n",
    "col = plt.get_cmap('viridis')\n",
    "data_df = pd.read_csv(\"GGV.csv\")\n",
    "for vel in data_df[\"s_dot\"].unique():\n",
    "    temp_df = data_df[data_df[\"s_dot\"] == vel]\n",
    "    color = col((vel-5)/(easy_driver.params.max_vel-5))\n",
    "    ax.plot(temp_df[\"vehicle_accelerations_NTB_0\"], temp_df[\"vehicle_accelerations_NTB_1\"], temp_df[\"s_dot\"], c=color) \n",
    "    ax.scatter(temp_df[\"vehicle_accelerations_NTB_0\"], temp_df[\"vehicle_accelerations_NTB_1\"], temp_df[\"s_dot\"], c=color)  \n",
    "ax.set_ylabel(\"Lateral Acceleration (m/s^2)\")\n",
    "ax.set_xlabel(\"Long Acceleration (m/s^2)\")\n",
    "ax.set_zlabel(\"Speed (m/s)\")\n",
    "ax.set_title(\"G-G-V Diagram\")"
   ]
  },
  {
   "cell_type": "code",
   "execution_count": null,
   "metadata": {},
   "outputs": [],
   "source": [
    "fig = plt.figure(figsize=(12, 10), dpi=80)\n",
    "col = plt.get_cmap('viridis')\n",
    "\n",
    "plt.scatter(df[\"long\"], df[\"lat\"])\n",
    "for vel in df[\"vel\"].unique():\n",
    "    temp_df = df[df[\"vel\"] == vel]\n",
    "    color = col((vel-5)/(30-5))\n",
    "    plt.scatter(temp_df[\"long\"], temp_df[\"lat\"], c=color)  \n",
    "plt.grid()\n",
    "plt.ylabel(\"Lateral Acceleration (m/s^2)\")\n",
    "plt.xlabel(\"Long Acceleration (m/s^2)\")\n",
    "plt.legend(list(df[\"vel\"].unique()), title = \"Speed (m/s)\", loc = \"upper right\")\n",
    "plt.title(\"G-G-V: Long vs Lateral Acceleration at Varying Speeds\")"
   ]
  }
 ],
 "metadata": {
  "kernelspec": {
   "display_name": "Python 3.10.7 64-bit",
   "language": "python",
   "name": "python3"
  },
  "language_info": {
   "codemirror_mode": {
    "name": "ipython",
    "version": 3
   },
   "file_extension": ".py",
   "mimetype": "text/x-python",
   "name": "python",
   "nbconvert_exporter": "python",
   "pygments_lexer": "ipython3",
   "version": "3.10.7"
  },
  "orig_nbformat": 4,
  "vscode": {
   "interpreter": {
    "hash": "620eb4ed2007402b8563cffe8a138559637e3ee9804a716022abebb97e63d62a"
   }
  }
 },
 "nbformat": 4,
 "nbformat_minor": 2
}
