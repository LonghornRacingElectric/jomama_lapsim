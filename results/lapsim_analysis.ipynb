{
 "cells": [
  {
   "cell_type": "code",
   "execution_count": 1,
   "metadata": {},
   "outputs": [
    {
     "ename": "FileNotFoundError",
     "evalue": "[Errno 2] No such file or directory: 'endurance_michigan_2019-concept_2023.csv'",
     "output_type": "error",
     "traceback": [
      "\u001b[1;31m---------------------------------------------------------------------------\u001b[0m",
      "\u001b[1;31mFileNotFoundError\u001b[0m                         Traceback (most recent call last)",
      "Input \u001b[1;32mIn [1]\u001b[0m, in \u001b[0;36m<cell line: 5>\u001b[1;34m()\u001b[0m\n\u001b[0;32m      2\u001b[0m \u001b[38;5;28;01mimport\u001b[39;00m \u001b[38;5;21;01mmatplotlib\u001b[39;00m\u001b[38;5;21;01m.\u001b[39;00m\u001b[38;5;21;01mpyplot\u001b[39;00m \u001b[38;5;28;01mas\u001b[39;00m \u001b[38;5;21;01mplt\u001b[39;00m\n\u001b[0;32m      3\u001b[0m \u001b[38;5;28;01mimport\u001b[39;00m \u001b[38;5;21;01mseaborn\u001b[39;00m \u001b[38;5;28;01mas\u001b[39;00m \u001b[38;5;21;01msns\u001b[39;00m\n\u001b[1;32m----> 5\u001b[0m df2 \u001b[38;5;241m=\u001b[39m \u001b[43mpd\u001b[49m\u001b[38;5;241;43m.\u001b[39;49m\u001b[43mread_csv\u001b[49m\u001b[43m(\u001b[49m\u001b[38;5;124;43m\"\u001b[39;49m\u001b[38;5;124;43mendurance_michigan_2019-concept_2023.csv\u001b[39;49m\u001b[38;5;124;43m\"\u001b[39;49m\u001b[43m)\u001b[49m\n\u001b[0;32m      6\u001b[0m plt\u001b[38;5;241m.\u001b[39mscatter(x\u001b[38;5;241m=\u001b[39mdf2[\u001b[38;5;124m\"\u001b[39m\u001b[38;5;124mx\u001b[39m\u001b[38;5;124m\"\u001b[39m],y\u001b[38;5;241m=\u001b[39mdf2[\u001b[38;5;124m\"\u001b[39m\u001b[38;5;124my\u001b[39m\u001b[38;5;124m\"\u001b[39m], c\u001b[38;5;241m=\u001b[39mdf2[\u001b[38;5;124m\"\u001b[39m\u001b[38;5;124mvel\u001b[39m\u001b[38;5;124m\"\u001b[39m], cmap\u001b[38;5;241m=\u001b[39m\u001b[38;5;124m\"\u001b[39m\u001b[38;5;124mviridis\u001b[39m\u001b[38;5;124m\"\u001b[39m)\n\u001b[0;32m      7\u001b[0m plt\u001b[38;5;241m.\u001b[39mtitle(\u001b[38;5;124m\"\u001b[39m\u001b[38;5;124mMichigan Endurance 2019\u001b[39m\u001b[38;5;124m\"\u001b[39m)\n",
      "File \u001b[1;32m~\\AppData\\Local\\Programs\\Python\\Python310\\lib\\site-packages\\pandas\\util\\_decorators.py:311\u001b[0m, in \u001b[0;36mdeprecate_nonkeyword_arguments.<locals>.decorate.<locals>.wrapper\u001b[1;34m(*args, **kwargs)\u001b[0m\n\u001b[0;32m    305\u001b[0m \u001b[38;5;28;01mif\u001b[39;00m \u001b[38;5;28mlen\u001b[39m(args) \u001b[38;5;241m>\u001b[39m num_allow_args:\n\u001b[0;32m    306\u001b[0m     warnings\u001b[38;5;241m.\u001b[39mwarn(\n\u001b[0;32m    307\u001b[0m         msg\u001b[38;5;241m.\u001b[39mformat(arguments\u001b[38;5;241m=\u001b[39marguments),\n\u001b[0;32m    308\u001b[0m         \u001b[38;5;167;01mFutureWarning\u001b[39;00m,\n\u001b[0;32m    309\u001b[0m         stacklevel\u001b[38;5;241m=\u001b[39mstacklevel,\n\u001b[0;32m    310\u001b[0m     )\n\u001b[1;32m--> 311\u001b[0m \u001b[38;5;28;01mreturn\u001b[39;00m func(\u001b[38;5;241m*\u001b[39margs, \u001b[38;5;241m*\u001b[39m\u001b[38;5;241m*\u001b[39mkwargs)\n",
      "File \u001b[1;32m~\\AppData\\Local\\Programs\\Python\\Python310\\lib\\site-packages\\pandas\\io\\parsers\\readers.py:680\u001b[0m, in \u001b[0;36mread_csv\u001b[1;34m(filepath_or_buffer, sep, delimiter, header, names, index_col, usecols, squeeze, prefix, mangle_dupe_cols, dtype, engine, converters, true_values, false_values, skipinitialspace, skiprows, skipfooter, nrows, na_values, keep_default_na, na_filter, verbose, skip_blank_lines, parse_dates, infer_datetime_format, keep_date_col, date_parser, dayfirst, cache_dates, iterator, chunksize, compression, thousands, decimal, lineterminator, quotechar, quoting, doublequote, escapechar, comment, encoding, encoding_errors, dialect, error_bad_lines, warn_bad_lines, on_bad_lines, delim_whitespace, low_memory, memory_map, float_precision, storage_options)\u001b[0m\n\u001b[0;32m    665\u001b[0m kwds_defaults \u001b[38;5;241m=\u001b[39m _refine_defaults_read(\n\u001b[0;32m    666\u001b[0m     dialect,\n\u001b[0;32m    667\u001b[0m     delimiter,\n\u001b[1;32m   (...)\u001b[0m\n\u001b[0;32m    676\u001b[0m     defaults\u001b[38;5;241m=\u001b[39m{\u001b[38;5;124m\"\u001b[39m\u001b[38;5;124mdelimiter\u001b[39m\u001b[38;5;124m\"\u001b[39m: \u001b[38;5;124m\"\u001b[39m\u001b[38;5;124m,\u001b[39m\u001b[38;5;124m\"\u001b[39m},\n\u001b[0;32m    677\u001b[0m )\n\u001b[0;32m    678\u001b[0m kwds\u001b[38;5;241m.\u001b[39mupdate(kwds_defaults)\n\u001b[1;32m--> 680\u001b[0m \u001b[38;5;28;01mreturn\u001b[39;00m \u001b[43m_read\u001b[49m\u001b[43m(\u001b[49m\u001b[43mfilepath_or_buffer\u001b[49m\u001b[43m,\u001b[49m\u001b[43m \u001b[49m\u001b[43mkwds\u001b[49m\u001b[43m)\u001b[49m\n",
      "File \u001b[1;32m~\\AppData\\Local\\Programs\\Python\\Python310\\lib\\site-packages\\pandas\\io\\parsers\\readers.py:575\u001b[0m, in \u001b[0;36m_read\u001b[1;34m(filepath_or_buffer, kwds)\u001b[0m\n\u001b[0;32m    572\u001b[0m _validate_names(kwds\u001b[38;5;241m.\u001b[39mget(\u001b[38;5;124m\"\u001b[39m\u001b[38;5;124mnames\u001b[39m\u001b[38;5;124m\"\u001b[39m, \u001b[38;5;28;01mNone\u001b[39;00m))\n\u001b[0;32m    574\u001b[0m \u001b[38;5;66;03m# Create the parser.\u001b[39;00m\n\u001b[1;32m--> 575\u001b[0m parser \u001b[38;5;241m=\u001b[39m TextFileReader(filepath_or_buffer, \u001b[38;5;241m*\u001b[39m\u001b[38;5;241m*\u001b[39mkwds)\n\u001b[0;32m    577\u001b[0m \u001b[38;5;28;01mif\u001b[39;00m chunksize \u001b[38;5;129;01mor\u001b[39;00m iterator:\n\u001b[0;32m    578\u001b[0m     \u001b[38;5;28;01mreturn\u001b[39;00m parser\n",
      "File \u001b[1;32m~\\AppData\\Local\\Programs\\Python\\Python310\\lib\\site-packages\\pandas\\io\\parsers\\readers.py:934\u001b[0m, in \u001b[0;36mTextFileReader.__init__\u001b[1;34m(self, f, engine, **kwds)\u001b[0m\n\u001b[0;32m    931\u001b[0m     \u001b[38;5;28mself\u001b[39m\u001b[38;5;241m.\u001b[39moptions[\u001b[38;5;124m\"\u001b[39m\u001b[38;5;124mhas_index_names\u001b[39m\u001b[38;5;124m\"\u001b[39m] \u001b[38;5;241m=\u001b[39m kwds[\u001b[38;5;124m\"\u001b[39m\u001b[38;5;124mhas_index_names\u001b[39m\u001b[38;5;124m\"\u001b[39m]\n\u001b[0;32m    933\u001b[0m \u001b[38;5;28mself\u001b[39m\u001b[38;5;241m.\u001b[39mhandles: IOHandles \u001b[38;5;241m|\u001b[39m \u001b[38;5;28;01mNone\u001b[39;00m \u001b[38;5;241m=\u001b[39m \u001b[38;5;28;01mNone\u001b[39;00m\n\u001b[1;32m--> 934\u001b[0m \u001b[38;5;28mself\u001b[39m\u001b[38;5;241m.\u001b[39m_engine \u001b[38;5;241m=\u001b[39m \u001b[38;5;28;43mself\u001b[39;49m\u001b[38;5;241;43m.\u001b[39;49m\u001b[43m_make_engine\u001b[49m\u001b[43m(\u001b[49m\u001b[43mf\u001b[49m\u001b[43m,\u001b[49m\u001b[43m \u001b[49m\u001b[38;5;28;43mself\u001b[39;49m\u001b[38;5;241;43m.\u001b[39;49m\u001b[43mengine\u001b[49m\u001b[43m)\u001b[49m\n",
      "File \u001b[1;32m~\\AppData\\Local\\Programs\\Python\\Python310\\lib\\site-packages\\pandas\\io\\parsers\\readers.py:1218\u001b[0m, in \u001b[0;36mTextFileReader._make_engine\u001b[1;34m(self, f, engine)\u001b[0m\n\u001b[0;32m   1214\u001b[0m     mode \u001b[38;5;241m=\u001b[39m \u001b[38;5;124m\"\u001b[39m\u001b[38;5;124mrb\u001b[39m\u001b[38;5;124m\"\u001b[39m\n\u001b[0;32m   1215\u001b[0m \u001b[38;5;66;03m# error: No overload variant of \"get_handle\" matches argument types\u001b[39;00m\n\u001b[0;32m   1216\u001b[0m \u001b[38;5;66;03m# \"Union[str, PathLike[str], ReadCsvBuffer[bytes], ReadCsvBuffer[str]]\"\u001b[39;00m\n\u001b[0;32m   1217\u001b[0m \u001b[38;5;66;03m# , \"str\", \"bool\", \"Any\", \"Any\", \"Any\", \"Any\", \"Any\"\u001b[39;00m\n\u001b[1;32m-> 1218\u001b[0m \u001b[38;5;28mself\u001b[39m\u001b[38;5;241m.\u001b[39mhandles \u001b[38;5;241m=\u001b[39m \u001b[43mget_handle\u001b[49m\u001b[43m(\u001b[49m\u001b[43m  \u001b[49m\u001b[38;5;66;43;03m# type: ignore[call-overload]\u001b[39;49;00m\n\u001b[0;32m   1219\u001b[0m \u001b[43m    \u001b[49m\u001b[43mf\u001b[49m\u001b[43m,\u001b[49m\n\u001b[0;32m   1220\u001b[0m \u001b[43m    \u001b[49m\u001b[43mmode\u001b[49m\u001b[43m,\u001b[49m\n\u001b[0;32m   1221\u001b[0m \u001b[43m    \u001b[49m\u001b[43mencoding\u001b[49m\u001b[38;5;241;43m=\u001b[39;49m\u001b[38;5;28;43mself\u001b[39;49m\u001b[38;5;241;43m.\u001b[39;49m\u001b[43moptions\u001b[49m\u001b[38;5;241;43m.\u001b[39;49m\u001b[43mget\u001b[49m\u001b[43m(\u001b[49m\u001b[38;5;124;43m\"\u001b[39;49m\u001b[38;5;124;43mencoding\u001b[39;49m\u001b[38;5;124;43m\"\u001b[39;49m\u001b[43m,\u001b[49m\u001b[43m \u001b[49m\u001b[38;5;28;43;01mNone\u001b[39;49;00m\u001b[43m)\u001b[49m\u001b[43m,\u001b[49m\n\u001b[0;32m   1222\u001b[0m \u001b[43m    \u001b[49m\u001b[43mcompression\u001b[49m\u001b[38;5;241;43m=\u001b[39;49m\u001b[38;5;28;43mself\u001b[39;49m\u001b[38;5;241;43m.\u001b[39;49m\u001b[43moptions\u001b[49m\u001b[38;5;241;43m.\u001b[39;49m\u001b[43mget\u001b[49m\u001b[43m(\u001b[49m\u001b[38;5;124;43m\"\u001b[39;49m\u001b[38;5;124;43mcompression\u001b[39;49m\u001b[38;5;124;43m\"\u001b[39;49m\u001b[43m,\u001b[49m\u001b[43m \u001b[49m\u001b[38;5;28;43;01mNone\u001b[39;49;00m\u001b[43m)\u001b[49m\u001b[43m,\u001b[49m\n\u001b[0;32m   1223\u001b[0m \u001b[43m    \u001b[49m\u001b[43mmemory_map\u001b[49m\u001b[38;5;241;43m=\u001b[39;49m\u001b[38;5;28;43mself\u001b[39;49m\u001b[38;5;241;43m.\u001b[39;49m\u001b[43moptions\u001b[49m\u001b[38;5;241;43m.\u001b[39;49m\u001b[43mget\u001b[49m\u001b[43m(\u001b[49m\u001b[38;5;124;43m\"\u001b[39;49m\u001b[38;5;124;43mmemory_map\u001b[39;49m\u001b[38;5;124;43m\"\u001b[39;49m\u001b[43m,\u001b[49m\u001b[43m \u001b[49m\u001b[38;5;28;43;01mFalse\u001b[39;49;00m\u001b[43m)\u001b[49m\u001b[43m,\u001b[49m\n\u001b[0;32m   1224\u001b[0m \u001b[43m    \u001b[49m\u001b[43mis_text\u001b[49m\u001b[38;5;241;43m=\u001b[39;49m\u001b[43mis_text\u001b[49m\u001b[43m,\u001b[49m\n\u001b[0;32m   1225\u001b[0m \u001b[43m    \u001b[49m\u001b[43merrors\u001b[49m\u001b[38;5;241;43m=\u001b[39;49m\u001b[38;5;28;43mself\u001b[39;49m\u001b[38;5;241;43m.\u001b[39;49m\u001b[43moptions\u001b[49m\u001b[38;5;241;43m.\u001b[39;49m\u001b[43mget\u001b[49m\u001b[43m(\u001b[49m\u001b[38;5;124;43m\"\u001b[39;49m\u001b[38;5;124;43mencoding_errors\u001b[39;49m\u001b[38;5;124;43m\"\u001b[39;49m\u001b[43m,\u001b[49m\u001b[43m \u001b[49m\u001b[38;5;124;43m\"\u001b[39;49m\u001b[38;5;124;43mstrict\u001b[39;49m\u001b[38;5;124;43m\"\u001b[39;49m\u001b[43m)\u001b[49m\u001b[43m,\u001b[49m\n\u001b[0;32m   1226\u001b[0m \u001b[43m    \u001b[49m\u001b[43mstorage_options\u001b[49m\u001b[38;5;241;43m=\u001b[39;49m\u001b[38;5;28;43mself\u001b[39;49m\u001b[38;5;241;43m.\u001b[39;49m\u001b[43moptions\u001b[49m\u001b[38;5;241;43m.\u001b[39;49m\u001b[43mget\u001b[49m\u001b[43m(\u001b[49m\u001b[38;5;124;43m\"\u001b[39;49m\u001b[38;5;124;43mstorage_options\u001b[39;49m\u001b[38;5;124;43m\"\u001b[39;49m\u001b[43m,\u001b[49m\u001b[43m \u001b[49m\u001b[38;5;28;43;01mNone\u001b[39;49;00m\u001b[43m)\u001b[49m\u001b[43m,\u001b[49m\n\u001b[0;32m   1227\u001b[0m \u001b[43m\u001b[49m\u001b[43m)\u001b[49m\n\u001b[0;32m   1228\u001b[0m \u001b[38;5;28;01massert\u001b[39;00m \u001b[38;5;28mself\u001b[39m\u001b[38;5;241m.\u001b[39mhandles \u001b[38;5;129;01mis\u001b[39;00m \u001b[38;5;129;01mnot\u001b[39;00m \u001b[38;5;28;01mNone\u001b[39;00m\n\u001b[0;32m   1229\u001b[0m f \u001b[38;5;241m=\u001b[39m \u001b[38;5;28mself\u001b[39m\u001b[38;5;241m.\u001b[39mhandles\u001b[38;5;241m.\u001b[39mhandle\n",
      "File \u001b[1;32m~\\AppData\\Local\\Programs\\Python\\Python310\\lib\\site-packages\\pandas\\io\\common.py:786\u001b[0m, in \u001b[0;36mget_handle\u001b[1;34m(path_or_buf, mode, encoding, compression, memory_map, is_text, errors, storage_options)\u001b[0m\n\u001b[0;32m    781\u001b[0m \u001b[38;5;28;01melif\u001b[39;00m \u001b[38;5;28misinstance\u001b[39m(handle, \u001b[38;5;28mstr\u001b[39m):\n\u001b[0;32m    782\u001b[0m     \u001b[38;5;66;03m# Check whether the filename is to be opened in binary mode.\u001b[39;00m\n\u001b[0;32m    783\u001b[0m     \u001b[38;5;66;03m# Binary mode does not support 'encoding' and 'newline'.\u001b[39;00m\n\u001b[0;32m    784\u001b[0m     \u001b[38;5;28;01mif\u001b[39;00m ioargs\u001b[38;5;241m.\u001b[39mencoding \u001b[38;5;129;01mand\u001b[39;00m \u001b[38;5;124m\"\u001b[39m\u001b[38;5;124mb\u001b[39m\u001b[38;5;124m\"\u001b[39m \u001b[38;5;129;01mnot\u001b[39;00m \u001b[38;5;129;01min\u001b[39;00m ioargs\u001b[38;5;241m.\u001b[39mmode:\n\u001b[0;32m    785\u001b[0m         \u001b[38;5;66;03m# Encoding\u001b[39;00m\n\u001b[1;32m--> 786\u001b[0m         handle \u001b[38;5;241m=\u001b[39m \u001b[38;5;28;43mopen\u001b[39;49m\u001b[43m(\u001b[49m\n\u001b[0;32m    787\u001b[0m \u001b[43m            \u001b[49m\u001b[43mhandle\u001b[49m\u001b[43m,\u001b[49m\n\u001b[0;32m    788\u001b[0m \u001b[43m            \u001b[49m\u001b[43mioargs\u001b[49m\u001b[38;5;241;43m.\u001b[39;49m\u001b[43mmode\u001b[49m\u001b[43m,\u001b[49m\n\u001b[0;32m    789\u001b[0m \u001b[43m            \u001b[49m\u001b[43mencoding\u001b[49m\u001b[38;5;241;43m=\u001b[39;49m\u001b[43mioargs\u001b[49m\u001b[38;5;241;43m.\u001b[39;49m\u001b[43mencoding\u001b[49m\u001b[43m,\u001b[49m\n\u001b[0;32m    790\u001b[0m \u001b[43m            \u001b[49m\u001b[43merrors\u001b[49m\u001b[38;5;241;43m=\u001b[39;49m\u001b[43merrors\u001b[49m\u001b[43m,\u001b[49m\n\u001b[0;32m    791\u001b[0m \u001b[43m            \u001b[49m\u001b[43mnewline\u001b[49m\u001b[38;5;241;43m=\u001b[39;49m\u001b[38;5;124;43m\"\u001b[39;49m\u001b[38;5;124;43m\"\u001b[39;49m\u001b[43m,\u001b[49m\n\u001b[0;32m    792\u001b[0m \u001b[43m        \u001b[49m\u001b[43m)\u001b[49m\n\u001b[0;32m    793\u001b[0m     \u001b[38;5;28;01melse\u001b[39;00m:\n\u001b[0;32m    794\u001b[0m         \u001b[38;5;66;03m# Binary mode\u001b[39;00m\n\u001b[0;32m    795\u001b[0m         handle \u001b[38;5;241m=\u001b[39m \u001b[38;5;28mopen\u001b[39m(handle, ioargs\u001b[38;5;241m.\u001b[39mmode)\n",
      "\u001b[1;31mFileNotFoundError\u001b[0m: [Errno 2] No such file or directory: 'endurance_michigan_2019-concept_2023.csv'"
     ]
    }
   ],
   "source": [
    "import pandas as pd\n",
    "import matplotlib.pyplot as plt\n",
    "import seaborn as sns\n",
    "\n",
    "df2 = pd.read_csv(\"endurance_michigan_2019-concept_2023.csv\")\n",
    "plt.scatter(x=df2[\"x\"],y=df2[\"y\"], c=df2[\"vel\"], cmap=\"viridis\")\n",
    "plt.title(\"Michigan Endurance 2019\")\n",
    "clb = plt.colorbar()\n",
    "clb.ax.set_title('Velocity (m/s)')\n",
    "plt.grid()\n",
    "plt.xlabel(\"X Position (m)\")\n",
    "plt.ylabel(\"Y Position (m)\")\n",
    "# sns.set_style(\"whitegrid\")\n",
    "# pal = sns.color_palette(\"Reds\", as_cmap=True)\n",
    "# sns.relplot(data=df, x=\"x\", y=\"y\", hue=\"vel\", palette=\"RdYlBu\") #, palette=\"dark:viridis\") #, palette=\"viridis\") # kind=\"line\")\n",
    "#print(\"TIME IN SECONDS 1 g-g diagram\",df2.loc[df2.shape[0]-1, \"time\"])"
   ]
  },
  {
   "cell_type": "code",
   "execution_count": null,
   "metadata": {},
   "outputs": [],
   "source": [
    "temp = df2[df2[\"motor_torque\"] > 0.1]\n",
    "plt.scatter(x=df2[\"x\"],y=df2[\"y\"], c=\"b\", s=5)\n",
    "plt.scatter(x=temp[\"x\"],y=temp[\"y\"], c=temp[\"motor_torque\"], cmap=\"viridis\")\n",
    "\n",
    "plt.title(\"Michigan Endurance 2019\")\n",
    "clb = plt.colorbar()\n",
    "clb.ax.set_title('Motor Torque (Nm)')\n",
    "plt.grid()\n",
    "plt.xlabel(\"X Position (m)\")\n",
    "plt.ylabel(\"Y Position (m)\")"
   ]
  },
  {
   "cell_type": "code",
   "execution_count": null,
   "metadata": {},
   "outputs": [],
   "source": [
    "temp = df2[df2[\"motor_efficiency\"] > 0.1]\n",
    "plt.scatter(x=df2[\"x\"],y=df2[\"y\"], c=\"b\", s=5)\n",
    "plt.scatter(x=temp[\"x\"],y=temp[\"y\"], c=temp[\"motor_efficiency\"], cmap=\"viridis\")\n",
    "\n",
    "plt.title(\"Michigan Endurance 2019\")\n",
    "clb = plt.colorbar()\n",
    "clb.ax.set_title('Motor Efficiency (%)')\n",
    "plt.grid()\n",
    "plt.xlabel(\"X Position (m)\")\n",
    "plt.ylabel(\"Y Position (m)\")"
   ]
  },
  {
   "cell_type": "code",
   "execution_count": null,
   "metadata": {},
   "outputs": [],
   "source": [
    "import pandas as pd\n",
    "import matplotlib.pyplot as plt\n",
    "import seaborn as sns\n",
    "\n",
    "df2 = pd.read_csv(\"endurance_michigan_2019-concept_2023.csv\")\n",
    "temp = df2[df2[\"motor_efficiency\"] > 0.1]\n",
    "plt.scatter(x=temp[\"x\"],y=temp[\"y\"], c=temp[\"motor_efficiency\"], cmap=\"viridis\")\n",
    "plt.title(\"2019 Michigan Endurance\")\n",
    "clb = plt.colorbar()\n",
    "clb.ax.set_title('Motor Efficiency (%)')\n",
    "# sns.set_style(\"whitegrid\")\n",
    "# pal = sns.color_palette(\"Reds\", as_cmap=True)\n",
    "# sns.relplot(data=df, x=\"x\", y=\"y\", hue=\"vel\", palette=\"RdYlBu\") #, palette=\"dark:viridis\") #, palette=\"viridis\") # kind=\"line\")\n",
    "#print(\"TIME IN SECONDS 1 g-g diagram\",df2.loc[df2.shape[0]-1, \"time\"])"
   ]
  },
  {
   "cell_type": "code",
   "execution_count": null,
   "metadata": {},
   "outputs": [],
   "source": [
    "import numpy as np\n",
    "df2[\"motor_speed\"] = df2[\"power_into_inverter\"] * .97 * df2[\"motor_efficiency\"] / df2[\"motor_torque\"] / np.pi * 60 /2\n",
    "plt.scatter(df2[\"motor_speed\"], df2[\"motor_torque\"], c=df2[\"motor_efficiency\"] , cmap=\"viridis\")\n",
    "plt.ylabel(\"Torque (Nm)\")\n",
    "plt.xlabel(\"Speed (RPM)\")\n",
    "clb = plt.colorbar()\n",
    "clb.ax.set_title('Motor Efficiency (%)')"
   ]
  },
  {
   "cell_type": "code",
   "execution_count": null,
   "metadata": {},
   "outputs": [],
   "source": [
    "fig, axs = plt.subplots(1,2,figsize=(16, 6), dpi=80)\n",
    "forward = pd.read_csv(\"forward-autocross_michigan_2019-easy_driver.csv\")\n",
    "reverse = pd.read_csv(\"reverse-autocross_michigan_2019-easy_driver.csv\")\n",
    "axs[0].plot(forward[\"pos\"], forward[\"vel\"])\n",
    "axs[0].plot(reverse[\"pos\"], reverse[\"vel\"])\n",
    "axs[0].plot(forward[\"pos\"], forward[\"max_vel\"])\n",
    "#plt.plot(df[\"pos\"], df[\"vel\"])\n",
    "axs[0].set_ylim([10,26])\n",
    "axs[0].set_xlim([100,200])\n",
    "axs[0].grid()\n",
    "axs[0].set_ylabel(\"Velocity (m/s)\")\n",
    "axs[0].set_xlabel(\"Position (m)\")\n",
    "axs[0].legend([\"Forward Sim\", \"Reverse Sim\", \"Max Velocity\"])\n",
    "axs[0].set_title(\"Velocity Profiling vs Track Position\")\n",
    "\n",
    "axs[1].plot(forward[\"pos\"], forward[\"max_vel\"], c=\"g\")\n",
    "axs[1].plot(df[\"pos\"], df[\"vel\"], c=\"r\")\n",
    "axs[1].set_ylim([10,26])\n",
    "axs[1].set_xlim([100,200])\n",
    "axs[1].grid()\n",
    "axs[1].legend([\"Max Velocity\", \"Velocity Profile\"])\n",
    "axs[1].set_ylabel(\"Velocity (m/s)\")\n",
    "axs[1].set_xlabel(\"Position (m)\")\n",
    "axs[1].set_title(\"Final Velocity Profile\")"
   ]
  },
  {
   "cell_type": "code",
   "execution_count": null,
   "metadata": {},
   "outputs": [],
   "source": [
    "plt.scatter(df2[\"vel\"],df2[\"motor_speed\"], s=5)\n",
    "plt.grid()\n",
    "plt.ylabel(\"Motor Speed (RPM)\")\n",
    "plt.xlabel(\"Vehicle Speed (m/s)\")"
   ]
  },
  {
   "cell_type": "code",
   "execution_count": null,
   "metadata": {},
   "outputs": [],
   "source": [
    "plt.scatter(df2[\"time\"], df2[\"vel\"], s= 10)"
   ]
  },
  {
   "cell_type": "code",
   "execution_count": null,
   "metadata": {},
   "outputs": [],
   "source": [
    "plt.scatter(df[\"time\"], df[\"power_into_inverter\"])\n",
    "energy = sum(df[\"delta_t\"] * df[\"power_into_inverter\"])\n",
    "print(energy * 2.7778e-7)\n",
    "\n",
    "plt.scatter(df2[\"time\"], df2[\"power_into_inverter\"])\n",
    "energy = sum(df2[\"delta_t\"] * df2[\"power_into_inverter\"])\n",
    "print(energy * 2.7778e-7 * 11)\n",
    "\n",
    "rms_battery_current = (sum([(x/400)**2 for x in df[\"power_into_inverter\"]])/df.shape[0])**0.5\n",
    "print(rms_battery_current)\n",
    "\n",
    "rms_battery_current = (sum([(x/400)**2 for x in df2[\"power_into_inverter\"]])/df2.shape[0])**0.5\n",
    "print(rms_battery_current)"
   ]
  },
  {
   "cell_type": "code",
   "execution_count": null,
   "metadata": {},
   "outputs": [],
   "source": [
    "plt.scatter(df2[\"time\"], df2[\"motor_torque\"])\n",
    "print(sum(df2[\"motor_torque\"])/len(df2[\"motor_torque\"]))"
   ]
  },
  {
   "cell_type": "code",
   "execution_count": null,
   "metadata": {},
   "outputs": [],
   "source": [
    "plt.scatter(df[\"time\"], df[\"motor_torque\"])"
   ]
  },
  {
   "cell_type": "code",
   "execution_count": null,
   "metadata": {},
   "outputs": [],
   "source": [
    "plt.scatter(df2[\"R\"], df2[\"vel\"])\n",
    "plt.ylim([-10,5])\n",
    "plt.xlim([0,10])"
   ]
  },
  {
   "cell_type": "code",
   "execution_count": null,
   "metadata": {},
   "outputs": [],
   "source": [
    "plt.scatter(df2[\"time\"], df2[\"ay\"], label = \"AY\")\n",
    "plt.scatter(df2[\"time\"], df2[\"ax\"], label = \"AX\")\n",
    "plt.legend()"
   ]
  },
  {
   "cell_type": "code",
   "execution_count": null,
   "metadata": {},
   "outputs": [],
   "source": [
    "df = pd.read_csv(\"autocross_michigan_2019-concept_2023.csv\")\n",
    "plt.scatter(x=df[\"x\"],y=df[\"y\"], c=df[\"vel\"], cmap=\"viridis\")\n",
    "print(\"TIME IN SECONDS 1 g-g diagram\",df.loc[df.shape[0]-1, \"time\"])\n",
    "plt.grid()\n",
    "plt.ylabel(\"Position (m)\")\n",
    "plt.xlabel(\"Position (m)\")\n",
    "plt.title(\"Michigan Autocross 2019\")\n",
    "clb = plt.colorbar()\n",
    "clb.ax.set_title('Velocity (m/s)')"
   ]
  },
  {
   "cell_type": "code",
   "execution_count": null,
   "metadata": {},
   "outputs": [],
   "source": [
    "plt.scatter(df[\"pos\"], df[\"delta_t\"])\n",
    "plt.plot(df[\"pos\"], df[\"time\"])\n",
    "current_df = df[df[\"delta_t\"] > 100]\n",
    "print(current_df)\n",
    "# plt.scatter(current_df[\"pos\"], current_df[\"delta_t\"])"
   ]
  },
  {
   "cell_type": "code",
   "execution_count": null,
   "metadata": {},
   "outputs": [],
   "source": [
    "df = pd.read_csv(\"autocross_michigan_2019-easy_driver.csv\")\n",
    "df3 = df[df[\"R\"] < 50]\n",
    "plt.scatter(x=df3[\"x\"],y=df3[\"y\"], c=df3[\"R\"], cmap=\"viridis\", s= 10)\n",
    "df3 = df[df[\"R\"] > 50]\n",
    "plt.scatter(x=df3[\"x\"],y=df3[\"y\"], c='y', s= 10)\n",
    "df3 = df[df[\"R\"] < 7]\n",
    "plt.scatter(x=df3[\"x\"],y=df3[\"y\"], c='r', s= 10)\n",
    "#print(\"TIME IN SECONDS 1 g-g diagram\",df.loc[df.shape[0]-1, \"time\"])"
   ]
  },
  {
   "cell_type": "code",
   "execution_count": null,
   "metadata": {},
   "outputs": [],
   "source": [
    "plt.scatter(df[\"ax\"], df[\"ay\"])\n",
    "plt.grid()"
   ]
  },
  {
   "cell_type": "code",
   "execution_count": null,
   "metadata": {},
   "outputs": [],
   "source": [
    "plt.plot(df2[\"time\"], df2[\"vel\"])"
   ]
  },
  {
   "cell_type": "code",
   "execution_count": null,
   "metadata": {},
   "outputs": [],
   "source": [
    "plt.scatter(df[\"ax\"],df[\"ay\"])"
   ]
  },
  {
   "cell_type": "code",
   "execution_count": null,
   "metadata": {},
   "outputs": [],
   "source": [
    "plt.scatter(df[\"vel\"],df[\"R\"])"
   ]
  },
  {
   "cell_type": "code",
   "execution_count": null,
   "metadata": {},
   "outputs": [],
   "source": [
    "import sys\n",
    "sys.path.append(\"..\")\n",
    "import engine\n",
    "from engine import racecar\n",
    "import engine.magic_moment_method.vehicle_params as vehicles\n",
    "import numpy as np\n",
    "import matplotlib.pyplot as plt\n",
    "from mpl_toolkits.mplot3d import Axes3D\n",
    "\n",
    "\n",
    "easy_driver = engine.Racecar(vehicles.Concept2023(), \"../engine/magic_moment_method/analysis/GGV.csv\")\n",
    "\n",
    "endurance_track = engine.Track(\"../racing_lines/\" + \"endurance_michigan_2019\" + \"-racing_line.csv\", 1681.963)\n",
    "endurance_event = engine.Simulation(easy_driver, endurance_track)\n",
    "endurance_results, time = endurance_event.run()\n",
    "reverse_sim = endurance_event.reverse_sim\n"
   ]
  },
  {
   "cell_type": "code",
   "execution_count": null,
   "metadata": {},
   "outputs": [],
   "source": [
    "# 634.8268839118932\n",
    "new = reverse_sim.applymap(np.real)\n",
    "plt.plot(new[\"pos\"], new[\"vel\"])\n",
    "plt.scatter(new[\"pos\"], new[\"R\"], c='r')\n",
    "plt.grid()\n",
    "plt.ylim([0,40])\n",
    "plt.show()\n",
    "print(time)"
   ]
  },
  {
   "cell_type": "code",
   "execution_count": null,
   "metadata": {},
   "outputs": [],
   "source": [
    "# 634.8268839118932\n",
    "new = reverse_sim.applymap(np.real)\n",
    "plt.plot(new[\"delta_t\"], new[\"vel\"])\n",
    "plt.scatter(new[\"delta_t\"], new[\"R\"], c='r')\n",
    "plt.grid()\n",
    "plt.ylim([0,40])\n",
    "plt.show()\n",
    "print(time)"
   ]
  },
  {
   "cell_type": "code",
   "execution_count": null,
   "metadata": {},
   "outputs": [],
   "source": [
    "plt.scatter(new[\"R\"], new[\"vel\"])\n",
    "plt.ylim([0,3])\n",
    "plt.xlim([0,5])\n",
    "plt.ylabel(\"Velocity\")\n",
    "plt.xlabel(\"Turn Radius\")"
   ]
  },
  {
   "cell_type": "code",
   "execution_count": null,
   "metadata": {},
   "outputs": [],
   "source": [
    "new[\"R\"].sort_values().iloc[:100]\n"
   ]
  },
  {
   "cell_type": "code",
   "execution_count": null,
   "metadata": {},
   "outputs": [],
   "source": [
    "from matplotlib.pyplot import title\n",
    "\n",
    "\n",
    "endurance_results1 = endurance_event.results.applymap(np.real)\n",
    "plt.scatter(x=endurance_results1[\"x\"],y=endurance_results1[\"y\"], c=endurance_results1[\"vel\"], cmap=\"viridis\")\n",
    "plt.title(\"2019 Michigan Endurance Track\")"
   ]
  },
  {
   "cell_type": "code",
   "execution_count": null,
   "metadata": {},
   "outputs": [],
   "source": [
    "fig = plt.figure(figsize=(20, 20), dpi=90)\n",
    "# df = pd.read_csv(\"../racing_lines/en_mi_2019.csv\")\n",
    "# #df2 = pd.read_csv(\"../tracks/Endurance_Michigan_2019_CONES_ONLY.csv\")\n",
    "# df2 = pd.read_csv(\"../tracks/Endurance_Michigan_2019_Sanitized.csv\")\n",
    "\n",
    "df = pd.read_csv(\"../racing_lines/ax_mi_2019.csv\")\n",
    "#df2 = pd.read_csv(\"../tracks/Endurance_Michigan_2019_CONES_ONLY.csv\")\n",
    "df2 = pd.read_csv(\"../tracks/Autocross_Michigan_2019_Sanitized.csv\")\n",
    "\n",
    "\n",
    "plt.plot(df[\"x\"] / 0.3048, df[\"y\"] / 0.3048)\n",
    "# df2[\"x\"] += 61.71\n",
    "# df2[\"y\"] += 20.92\n",
    "#print(sum(endurance_results1[\"dist\"]))\n",
    "plt.scatter(df2[\"out_x\"], df2[\"out_y\"])\n",
    "plt.scatter(df2[\"in_x\"], df2[\"in_y\"])"
   ]
  }
 ],
 "metadata": {
  "kernelspec": {
   "display_name": "Python 3 (ipykernel)",
   "language": "python",
   "name": "python3"
  },
  "language_info": {
   "codemirror_mode": {
    "name": "ipython",
    "version": 3
   },
   "file_extension": ".py",
   "mimetype": "text/x-python",
   "name": "python",
   "nbconvert_exporter": "python",
   "pygments_lexer": "ipython3",
   "version": "3.10.7"
  },
  "vscode": {
   "interpreter": {
    "hash": "620eb4ed2007402b8563cffe8a138559637e3ee9804a716022abebb97e63d62a"
   }
  }
 },
 "nbformat": 4,
 "nbformat_minor": 2
}
